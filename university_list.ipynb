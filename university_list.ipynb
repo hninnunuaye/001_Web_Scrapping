{
 "cells": [
  {
   "cell_type": "markdown",
   "id": "99be4490-4353-418c-b631-5a2a305785c7",
   "metadata": {},
   "source": [
    "## List of Universities"
   ]
  },
  {
   "cell_type": "code",
   "execution_count": null,
   "id": "6a79ebba-2d67-41f6-8419-869dc067f767",
   "metadata": {},
   "outputs": [],
   "source": [
    "from bs4 import BeautifulSoup\n",
    "import requests\n",
    "import pandas as pd\n",
    "\n",
    "url = 'https://www.theuniguide.co.uk/about/universities'  # Replace with desired product ID\n",
    "\n",
    "# https://httpbin.org/get\n",
    "header = {\"User-Agent\": \"Mozilla/5.0 (Macintosh; Intel Mac OS X 10_15_7) AppleWebKit/537.36 (KHTML, like Gecko) Chrome/126.0.0.0 Safari/537.36\", \n",
    "    \"X-Amzn-Trace-Id\": \"Root=1-668cf015-2bd48e027a8c26ab534e881b\"}\n",
    "\n",
    "unilist = []\n",
    "\n",
    "page = requests.get(url, headers=header)\n",
    "soup = BeautifulSoup(page.text, 'html.parser')\n",
    "\n",
    "universities = soup.find_all('b', id=\"docs-internal-guid-9e10dba9-7fff-ec53-148f-24e06be85884\")\n",
    "\n",
    "print(f'Found {len(universities)} universities on this page.')\n",
    "print ('\\n')\n",
    "try:\n",
    "    for item in universities:\n",
    "        university = {\n",
    "          'name': item.find('a').text.strip(),\n",
    "          'url': item.find('a')['href'],\n",
    "        }\n",
    "        unilist.append(university)\n",
    "\n",
    "except (AttributeError, KeyError, ValueError):\n",
    "    pass\n",
    "\n",
    "\n",
    "# create a dataframe and export the data\n",
    "df = pd.DataFrame(unilist)\n",
    "df.to_excel('/data/university_list.xlsx', index=False)\n",
    "\n",
    "print('Data has been exported successfully...')"
   ]
  }
 ],
 "metadata": {
  "kernelspec": {
   "display_name": "Python 3 (ipykernel)",
   "language": "python",
   "name": "python3"
  },
  "language_info": {
   "codemirror_mode": {
    "name": "ipython",
    "version": 3
   },
   "file_extension": ".py",
   "mimetype": "text/x-python",
   "name": "python",
   "nbconvert_exporter": "python",
   "pygments_lexer": "ipython3",
   "version": "3.12.4"
  }
 },
 "nbformat": 4,
 "nbformat_minor": 5
}
